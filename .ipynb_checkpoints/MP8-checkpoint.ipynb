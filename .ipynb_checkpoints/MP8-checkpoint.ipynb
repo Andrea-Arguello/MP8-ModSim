{
 "cells": [
  {
   "cell_type": "markdown",
   "metadata": {},
   "source": [
    "# <center>Miniproyecto 8</center>\n",
    "## <center>Modelación y Simulación</center>\n",
    "<center>Javier Anleu Alegría - 17149</center>\n",
    "\n",
    "<center>Andrea Argüello - 17801</center>"
   ]
  },
  {
   "cell_type": "markdown",
   "metadata": {},
   "source": [
    "**Librerías**"
   ]
  },
  {
   "cell_type": "code",
   "execution_count": 1,
   "metadata": {},
   "outputs": [],
   "source": [
    "import random\n",
    "import numpy as np\n",
    "import matplotlib.pyplot as plt\n",
    "from scipy.stats import norm\n",
    "from IPython.display import display, Latex"
   ]
  },
  {
   "cell_type": "markdown",
   "metadata": {},
   "source": [
    "## Ejercicio 1: Markov\n",
    "Construya un programa de simulación, en su lenguaje favorito, para generar el estado en el paso $k$ de una cadena de Markov  con transiciones estacionarias y número de estados finitos dado un estado inicial, muestre los diferentes estados hasta la generación del estado en el paso $k$."
   ]
  },
  {
   "cell_type": "markdown",
   "metadata": {},
   "source": [
    "### Resolución\n",
    "\n",
    "La cadena de Markov que se simulará será una variable aleatoria de Bernoulli $X$, con estados $\\mathscr{S} = \\{0,1\\}$. La matriz de probabilidades de la variable aleatoria tendrá, por lo tanto, $i = 2$ filas con $j=2$ columnas. Dada la probabilidad $p_1$ de que $X$ se mantenga en el estado $i = 0$ si se encuentra en ese estado, y la probabilidad $p_2$ de que $X$ se mantenga en el estado $i = 1$ si se encuentra en ese estado, entonces las probabilidades de cambio de estado, respectivamente, son $1-p_1$ y $1-p_2$. Matemáticamente, para un estado presente $n$ y un estado siguiente futuro $n+1$:\n",
    "\n",
    "$$P\\Big(X_{n+1} = 0| X_n = 0\\Big) = p_1$$\n",
    "$$P\\Big(X_{n+1} = 1| X_n = 1\\Big) = p_2$$\n",
    "$$P\\Big(X_{n+1} = 1| X_n = 0\\Big) = 1 - p_1$$\n",
    "$$P\\Big(X_{n+1} = 0| X_n = 1\\Big) = 1 - p_2$$\n",
    "\n",
    "Por consiguiente, la matriz de probabilidades para la cadena de Markov es:\n",
    "\n",
    "$$\\mathrm{P} = \\begin {bmatrix} p_1 & {1-p_1} \\\\ p_2 & {1-p_2} \\end{bmatrix}$$\n",
    "\n",
    "Para la simulación, se utilizará el método de la transformada inversa para la variable aleatoria $X$ de Bernoulli utilizando la distribución continua uniforme estándar $\\mathscr{U} (0,1)$. Para cada transición de estado, se utilizarán las probabilidades descritas en la fila $i$ de la matriz $\\mathrm{P}$ que corresponde al estado presente de $X$. El estado inicial de la variable aleatoria será $X_0 = 0$, y se realizará la simulación para $k$ pasos."
   ]
  },
  {
   "cell_type": "markdown",
   "metadata": {},
   "source": [
    "### Simulación"
   ]
  },
  {
   "cell_type": "markdown",
   "metadata": {},
   "source": [
    "Función para la transformada inversa de la variable aleatoria de Bernoulli para la cadena de Markov:"
   ]
  },
  {
   "cell_type": "code",
   "execution_count": 2,
   "metadata": {},
   "outputs": [],
   "source": [
    "def bernoulliInv(u, x, p):\n",
    "    if u<=p:\n",
    "        return x\n",
    "    else:\n",
    "        if x == 1:\n",
    "            return 0\n",
    "        else:\n",
    "            return 1"
   ]
  },
  {
   "cell_type": "markdown",
   "metadata": {},
   "source": [
    "Configuración del *seed*:"
   ]
  },
  {
   "cell_type": "code",
   "execution_count": 3,
   "metadata": {},
   "outputs": [],
   "source": [
    "random.seed(np.pi)"
   ]
  },
  {
   "cell_type": "markdown",
   "metadata": {},
   "source": [
    "Parámetros de la simulación:\n",
    "\n",
    "* `k`: el número de pasos que se realizarán en la simulación\n",
    "* `p_1`: la probabilidad de que la variable aleatoria $X$ de Bernoulli se mantenga en el estado $i = 0$\n",
    "* `p_2`: la probabilidad de que la variable aleatoria $X$ de Bernoulli se mantenga en el estado $i = 1$"
   ]
  },
  {
   "cell_type": "code",
   "execution_count": 4,
   "metadata": {},
   "outputs": [],
   "source": [
    "k = 10\n",
    "p_1 = 0.3\n",
    "p_2 = 0.4"
   ]
  },
  {
   "cell_type": "markdown",
   "metadata": {},
   "source": [
    "**Corrida:**"
   ]
  },
  {
   "cell_type": "code",
   "execution_count": 5,
   "metadata": {},
   "outputs": [
    {
     "data": {
      "text/latex": [
       "$X_0 = 0$"
      ],
      "text/plain": [
       "<IPython.core.display.Latex object>"
      ]
     },
     "metadata": {},
     "output_type": "display_data"
    },
    {
     "data": {
      "text/latex": [
       "$X_{1} = 1$"
      ],
      "text/plain": [
       "<IPython.core.display.Latex object>"
      ]
     },
     "metadata": {},
     "output_type": "display_data"
    },
    {
     "data": {
      "text/latex": [
       "$X_{2} = 1$"
      ],
      "text/plain": [
       "<IPython.core.display.Latex object>"
      ]
     },
     "metadata": {},
     "output_type": "display_data"
    },
    {
     "data": {
      "text/latex": [
       "$X_{3} = 1$"
      ],
      "text/plain": [
       "<IPython.core.display.Latex object>"
      ]
     },
     "metadata": {},
     "output_type": "display_data"
    },
    {
     "data": {
      "text/latex": [
       "$X_{4} = 0$"
      ],
      "text/plain": [
       "<IPython.core.display.Latex object>"
      ]
     },
     "metadata": {},
     "output_type": "display_data"
    },
    {
     "data": {
      "text/latex": [
       "$X_{5} = 1$"
      ],
      "text/plain": [
       "<IPython.core.display.Latex object>"
      ]
     },
     "metadata": {},
     "output_type": "display_data"
    },
    {
     "data": {
      "text/latex": [
       "$X_{6} = 1$"
      ],
      "text/plain": [
       "<IPython.core.display.Latex object>"
      ]
     },
     "metadata": {},
     "output_type": "display_data"
    },
    {
     "data": {
      "text/latex": [
       "$X_{7} = 0$"
      ],
      "text/plain": [
       "<IPython.core.display.Latex object>"
      ]
     },
     "metadata": {},
     "output_type": "display_data"
    },
    {
     "data": {
      "text/latex": [
       "$X_{8} = 1$"
      ],
      "text/plain": [
       "<IPython.core.display.Latex object>"
      ]
     },
     "metadata": {},
     "output_type": "display_data"
    },
    {
     "data": {
      "text/latex": [
       "$X_{9} = 1$"
      ],
      "text/plain": [
       "<IPython.core.display.Latex object>"
      ]
     },
     "metadata": {},
     "output_type": "display_data"
    },
    {
     "data": {
      "text/latex": [
       "$X_{10} = 0$"
      ],
      "text/plain": [
       "<IPython.core.display.Latex object>"
      ]
     },
     "metadata": {},
     "output_type": "display_data"
    }
   ],
   "source": [
    "# Lista de probabilidades\n",
    "P = [p_1, p_2]\n",
    "\n",
    "# Estado inicial de la variable aleatoria\n",
    "X = 0\n",
    "display(Latex('$X_0 = '+str(X)+'$'))\n",
    "\n",
    "for i in range(k):\n",
    "    u = random.uniform(0,1)\n",
    "    X = bernoulliInv(u, X, P[X])\n",
    "    display(Latex('$X_{'+str(i+1)+'} = '+str(X)+'$'))"
   ]
  },
  {
   "cell_type": "markdown",
   "metadata": {},
   "source": [
    "## Ejercicio 2: Metropolis-Hastings"
   ]
  },
  {
   "cell_type": "markdown",
   "metadata": {},
   "source": [
    "Utilice el algoritmo de Metrópolis-Hastings para generar los valores de una variable normal estándar $N(0,1)$, sea $q(X_{n+1},X_n)$ definido como $X_{n+1}=X_n+e$ donde los valores de $e$ se generan de una variable aleatoria $G$ con $g$ función de densidad de probabilidad simétrica en $0$. Además, $q(x,y)=g(e)$.\n",
    "Realice el histograma con los $10,000$ valores resultantes."
   ]
  },
  {
   "cell_type": "markdown",
   "metadata": {},
   "source": [
    "### Resolución \n",
    "\n",
    "La función de densidad de probabilidad $g$ será una distribución continua uniforme definida en $[-\\delta, \\delta]$, donde $\\delta \\geq 0$, tal que está centrada en $0$. \n",
    "\n",
    "$$g = \\mathscr{U} (-\\delta, \\delta)$$\n",
    "\n",
    "Dado \n",
    "\n",
    "$$\\alpha (X_{n+1}|X_n) = \\frac{\\pi(X_{n+1})q(X_n|X_{n+1})}{\\pi(X_n)q(X_{n+1}|X_n)} = \\frac{\\pi(X_{n+1})}{\\pi(X_n)}$$\n",
    "\n",
    "Ya que se desea aproximar la distribución normal estándar, por lo tanto, $\\alpha (X_{n+1}|X_n)$ se determinará de la siguiente manera:\n",
    "\n",
    "$$\\alpha(X_{n+1}|X_n) = \\frac{\\varphi(X_{n+1})}{\\varphi(X_n)}$$\n",
    "Donde $\\varphi$ corresponde a la densidad de la distribución normal estándar:\n",
    "\n",
    "$$\\varphi(z) = \\frac{e^{\\frac{-z^2}{2}}}{\\sqrt{2\\pi}}$$\n",
    "\n",
    "Para realizar la simulación, se generará la variable $e$ a partir de la distribución continua uniforme $g$. Por cada iteración, se generará un valor $y$ tal que $y = x + e$, donde $x$ es el estado presente de la variable aleatoria. Seguidamente, se generará un número $u$ a partir de la distribución continua uniforme $\\mathscr{U} (0,1)$, y dado el siguiente criterio, se aceptará o rechazará el valor de $y$ generado en la iteración:\n",
    "\n",
    "\n",
    "$$\\text{Si } u \\leq \\alpha(X_{n+1}|X_n) \\rightarrow \\text{se acepta } y \\text{ y se agrega a la muestra.}$$\n",
    "$$\\text{Si } u > \\alpha(X_{n+1}|X_n) \\rightarrow \\text{se rechaza } y \\text{ y se agrega } x \\text{ a la muestra.}$$\n",
    "\n",
    "El algoritmo se correrá por $N = 10,000$ iteraciones, y el valor inicial de la simulación será $X_0 = 0$."
   ]
  },
  {
   "cell_type": "markdown",
   "metadata": {},
   "source": [
    "### Simulación"
   ]
  },
  {
   "cell_type": "markdown",
   "metadata": {},
   "source": [
    "Función de densidad de la distribución normal estándar $N(0,1)$:"
   ]
  },
  {
   "cell_type": "code",
   "execution_count": 6,
   "metadata": {},
   "outputs": [],
   "source": [
    "normalPDF = lambda z: np.exp((-1*z**2)/2)/((2*np.pi)**0.5)"
   ]
  },
  {
   "cell_type": "markdown",
   "metadata": {},
   "source": [
    "Función para determinar $\\alpha(X_{n+1}|X_n)$:"
   ]
  },
  {
   "cell_type": "code",
   "execution_count": 7,
   "metadata": {},
   "outputs": [],
   "source": [
    "alphaX = lambda x_n, x_n1: normalPDF(x_n1)/normalPDF(x_n)"
   ]
  },
  {
   "cell_type": "markdown",
   "metadata": {},
   "source": [
    "Configuración del *seed*:"
   ]
  },
  {
   "cell_type": "code",
   "execution_count": 8,
   "metadata": {},
   "outputs": [],
   "source": [
    "random.seed(777)"
   ]
  },
  {
   "cell_type": "markdown",
   "metadata": {},
   "source": [
    "Parámetros de la simulación:\n",
    "* `N`: el número de iteraciones de la simulación\n",
    "* `delta`: el parámetro de la función $g$"
   ]
  },
  {
   "cell_type": "code",
   "execution_count": 9,
   "metadata": {},
   "outputs": [],
   "source": [
    "N = 10**4\n",
    "delta = 0.5"
   ]
  },
  {
   "cell_type": "markdown",
   "metadata": {},
   "source": [
    "**Corrida:**"
   ]
  },
  {
   "cell_type": "code",
   "execution_count": 10,
   "metadata": {},
   "outputs": [],
   "source": [
    "# Valor inicial\n",
    "X = [0]\n",
    "\n",
    "for i in range(N-1):\n",
    "    e = random.uniform(-delta, delta)\n",
    "    X_n = X[i]\n",
    "    X_n1 = X_n + e\n",
    "    u = random.uniform(0,1)\n",
    "    alpha = alphaX(X_n, X_n1)\n",
    "    if u <= alpha:\n",
    "        X.append(X_n1)\n",
    "    else:\n",
    "        X.append(X_n)"
   ]
  },
  {
   "cell_type": "markdown",
   "metadata": {},
   "source": [
    "**Histograma de la distribución generada:**"
   ]
  },
  {
   "cell_type": "code",
   "execution_count": 11,
   "metadata": {},
   "outputs": [
    {
     "data": {
      "image/png": "[encoded data removed]",
      "text/plain": [
       "<Figure size 432x288 with 1 Axes>"
      ]
     },
     "metadata": {
      "needs_background": "light"
     },
     "output_type": "display_data"
    }
   ],
   "source": [
    "plt.hist(X, bins = int(np.round(N**0.5)), density = True, range = [-4,4])\n",
    "plt.title(\"Histograma de la distribución generada por el algoritmo Metropolis-Hastings\")\n",
    "plt.show()"
   ]
  },
  {
   "cell_type": "markdown",
   "metadata": {},
   "source": [
    "### Alternativa\n",
    "\n",
    "Alternativamente, el valor de $\\alpha(X_{n+1}|X_n)$ puede calcularse de la siguiente manera: \n",
    "\n",
    "Dado \n",
    "\n",
    "$$\\alpha (X_{n+1}|X_n) = \\min \\Big\\{\\frac{\\pi(X_{n+1})q(X_n|X_{n+1})}{\\pi(X_n)q(X_{n+1}|X_n)} , 1\\Big\\} = \\min \\Big\\{\\frac{\\pi(X_{n+1})}{\\pi(X_n)} , 1\\Big\\}$$\n",
    "\n",
    "Ya que se desea aproximar la distribución normal estándar, por lo tanto, $\\alpha (X_{n+1}|X_n)$ se determinará de la siguiente manera:\n",
    "\n",
    "$$\\alpha(X_{n+1}|X_n) = \\min \\Big\\{\\frac{\\varphi(X_{n+1})}{\\varphi(X_n)}, 1\\Big\\}$$\n",
    "\n",
    "Donde $\\varphi$ corresponde a la densidad de la distribución normal estándar:\n",
    "\n",
    "$$\\varphi(z) = \\frac{e^{\\frac{-z^2}{2}}}{\\sqrt{2\\pi}}$$\n",
    "\n",
    "La simulación se realizará de la misma manera que la anterior, con la excepción del cálculo del valor de $\\alpha (X_{n+1}|X_n)$. El algoritmo se correrá por $N = 10,000$ iteraciones, y el valor inicial de la simulación será $X_0 = 0$."
   ]
  },
  {
   "cell_type": "markdown",
   "metadata": {},
   "source": [
    "### Simulación"
   ]
  },
  {
   "cell_type": "markdown",
   "metadata": {},
   "source": [
    "Función para determinar $\\alpha(X_{n+1}|X_n)$:"
   ]
  },
  {
   "cell_type": "code",
   "execution_count": 12,
   "metadata": {},
   "outputs": [],
   "source": [
    "alphaXAlt = lambda x_n, x_n1:min([normalPDF(x_n1)/normalPDF(x_n),1])"
   ]
  },
  {
   "cell_type": "markdown",
   "metadata": {},
   "source": [
    "Configuración del *seed*:"
   ]
  },
  {
   "cell_type": "code",
   "execution_count": 13,
   "metadata": {},
   "outputs": [],
   "source": [
    "random.seed(777)"
   ]
  },
  {
   "cell_type": "markdown",
   "metadata": {},
   "source": [
    "Parámetros de la simulación:\n",
    "* `N`: el número de iteraciones de la simulación\n",
    "* `delta`: el parámetro de la función $g$"
   ]
  },
  {
   "cell_type": "code",
   "execution_count": 14,
   "metadata": {},
   "outputs": [],
   "source": [
    "N = 10**4\n",
    "delta = 0.5"
   ]
  },
  {
   "cell_type": "markdown",
   "metadata": {},
   "source": [
    "**Corrida:**"
   ]
  },
  {
   "cell_type": "code",
   "execution_count": 15,
   "metadata": {},
   "outputs": [],
   "source": [
    "# Valor inicial\n",
    "X = [0]\n",
    "\n",
    "for i in range(N-1):\n",
    "    e = random.uniform(-delta, delta)\n",
    "    X_n = X[i]\n",
    "    X_n1 = X_n + e\n",
    "    u = random.uniform(0,1)\n",
    "    alpha = alphaXAlt(X_n, X_n1)\n",
    "    if u <= alpha:\n",
    "        X.append(X_n1)\n",
    "    else:\n",
    "        X.append(X_n)"
   ]
  },
  {
   "cell_type": "markdown",
   "metadata": {},
   "source": [
    "**Histograma de la distribución generada:**"
   ]
  },
  {
   "cell_type": "code",
   "execution_count": 16,
   "metadata": {},
   "outputs": [
    {
     "data": {
      "image/png": "[encoded data removed]",
      "text/plain": [
       "<Figure size 432x288 with 1 Axes>"
      ]
     },
     "metadata": {
      "needs_background": "light"
     },
     "output_type": "display_data"
    }
   ],
   "source": [
    "plt.hist(X, bins = int(np.round(N**0.5)), density = True, range = [-4,4])\n",
    "plt.title(\"Histograma de la distribución generada por el algoritmo Metropolis-Hastings\")\n",
    "plt.show()"
   ]
  },
  {
   "cell_type": "markdown",
   "metadata": {},
   "source": [
    "## Ejercicio 3: Muestreador de Gibbs utilizando Metropolis-Hastings\n",
    "\n",
    "Cabe mencionar que el muestreador de Gibss es un caso especial de Hastings-Metropolis, en el cual la distribución que se desea muestrear es multivariable. El punto del muestreo de Gibbs es que es más simple el muestrear de una distribución condicional que de una conjunta. Además, la función de aceptación es igual a 1 para el muetreo de Gibbs, lo cual se demuestra a continuación:\n",
    "\n",
    "$$\\alpha (x_j^{cand}, x_{-j}^{(i-1)}|x_j^{(i-1)}, x_{-j}^{(i-1)}) = \\min \\Big\\{\\frac{p(x_j^{cand}, x_{-j}^{(i-1)})q(x_j^{(i-1)}, x_{-j}^{(i-1)}|x_j^{cand}, x_{-j}^{(i-1)})}{p(x_j^{(i-1)}, x_{-j}^{(i-1)})q(x_j^{cand}, x_{-j}^{(i-1)}|x_j^{(i-1)}, x_{-j}^{(i-1)})} , 1\\Big\\}$$\n",
    "\n",
    "Donde $x_{-j}$ denota a todos los $x$ con subíndice distinto de $j$. Nótese que $p(x_j^{(i)} | x_1^{(i)}, ..., x_{j-1}^{(i)}, x_j^{(i-1)}, ..., x_n^{(i-1)})=\\frac{p(x_1, ..., x_n)}{p(x_1, ..., x_{j-1}, x_{j+1}, ..., x_n)} \\alpha p(x_1, ..., x_n)$. Es decir, propongamos que $q(x_j^{(i-1)}, x_{-j}^{(i-1)}|x_j^{cand}, x_{-j}^{(i-1)}) = p(x_j^{(i-1)}|x_{-j}^{(i-1)})$. Además, por regla de la cadena, $p(x_j^{cand}, x_{-j}^{(i-1)})=p(x_j^{cand} | x_{-j}^{(i-1)})p(x_{-j}^{(i-1)})$. Entonces, sustituyendo, se tiene que:\n",
    "\n",
    "$$\\alpha (x_j^{cand}, x_{-j}^{(i-1)}|x_j^{(i-1)}, x_{-j}^{(i-1)}) = \\min \\Big\\{ \\frac{p(x_j^{cand} | x_{-j}^{(i-1)})p(x_{-j}^{(i-1)})p(x_j^{(i-1)}|x_{-j}^{(i-1)})}{p(x_j^{cand} | x_{-j}^{(i-1)})p(x_{-j}^{(i-1)})p(x_j^{(i-1)}|x_{-j}^{(i-1)})},1\\Big\\}=1$$\n",
    "\n",
    "Suponga que deseamos obtener $k$ muestras de $X=(x_1, ..., x_n)$ de una distribución conjunta $p(x_1, ... , x_n)$. Denotemos la i-ésima muestra $X^{(i)}=(x_1^{(i)}, ... , x_n^{(i)})$\n",
    "\n",
    "### Pseudocódigo del algoritmo general\n",
    "1. Defínase el valor inicial $X^{(0)}$\n",
    "2. ``for i=1; i<k; i++:``\n",
    "    1. $X^{(i)}$ = lista de tamaño n-1\n",
    "    2. ``for j=1; j<n; j++:``\n",
    "        1. $x_j^{(i)} = p(x_j^{(i)} | x_1^{(i)}, ..., x_{j-1}^{(i)}, x_j^{(i-1)}, ..., x_n^{(i-1)})$\n",
    "        2. $X^{(i)}$[ j-1 ]=$x_j^{(i)}$\n",
    "        \n",
    "Nótese que esto es equivalente a utilizar Hastings-Metropolis con $\\alpha=1$ y $q= p(x_j^{(i)} | x_1^{(i)}, ..., x_{j-1}^{(i)}, x_j^{(i-1)}, ..., x_n^{(i-1)})$\n",
    "\n",
    "### Pseudocódigo utilizando Metropolis-Hastings\n",
    "1. Defínase ``MetropolisHastings(alfa, x_i1)``, donde ``x_i1`` es $X^{(i-1)}$, con $q= p(x_j^{(i)} | x_1^{(i)}, ..., x_{j-1}^{(i)}, x_j^{(i-1)}, ..., x_n^{(i-1)})$, la cual genere ``len(x_i1)`` $x_j$ y retorne al final una lista $X^{(i)}$\n",
    "2. Definir $X^{(0)}$ \n",
    "3. Definir ``lasX=[``$X^{(0)}$ ``]``\n",
    "4. Llamar a ``lasX.append(MetropolisHastings(1, lasX[i]))`` y para i entre 0 y k-1, nótese que ``lasX[i]`` es igual a $X^{(i)}$"
   ]
  }
 ],
 "metadata": {
  "kernelspec": {
   "display_name": "Python 3",
   "language": "python",
   "name": "python3"
  },
  "language_info": {
   "codemirror_mode": {
    "name": "ipython",
    "version": 3
   },
   "file_extension": ".py",
   "mimetype": "text/x-python",
   "name": "python",
   "nbconvert_exporter": "python",
   "pygments_lexer": "ipython3",
   "version": "3.8.5"
  }
 },
 "nbformat": 4,
 "nbformat_minor": 4
}
