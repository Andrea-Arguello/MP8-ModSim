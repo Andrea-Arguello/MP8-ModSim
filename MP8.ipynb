{
 "cells": [
  {
   "cell_type": "markdown",
   "metadata": {},
   "source": [
    "# <center>Miniproyecto 8</center>\n",
    "## <center>Modelación y Simulación</center>\n",
    "<center>Javier Anleu Alegría - 17149</center>\n",
    "\n",
    "<center>Andrea Argüello - 17801</center>"
   ]
  },
  {
   "cell_type": "markdown",
   "metadata": {},
   "source": [
    "**Librerías**"
   ]
  },
  {
   "cell_type": "code",
   "execution_count": 1,
   "metadata": {},
   "outputs": [],
   "source": [
    "import random\n",
    "import numpy as np\n",
    "from IPython.display import display, Latex"
   ]
  },
  {
   "cell_type": "markdown",
   "metadata": {},
   "source": [
    "## Ejercicio 1: Markov\n",
    "Construya un programa de simulación, en su lenguaje favorito, para generar el estado en el paso $k$ de una cadena de Markov  con transiciones estacionarias y número de estados finitos dado un estado inicial, muestre los diferentes estados hasta la generación del estado en el paso $k$."
   ]
  },
  {
   "cell_type": "markdown",
   "metadata": {},
   "source": [
    "### Resolución\n",
    "\n",
    "La cadena de Markov que se simulará será una variable aleatoria de Bernoulli $X$, con estados $\\mathscr{S} = \\{0,1\\}$. La matriz de probabilidades de la variable aleatoria tendrá, por lo tanto, $i = 2$ filas con $j=2$ columnas. Dada la probabilidad $p_1$ de que $X$ se mantenga en el estado $i = 0$ si se encuentra en ese estado, y la probabilidad $p_2$ de que $X$ se mantenga en el estado $i = 1$ si se encuentra en ese estado, entonces las probabilidades de cambio de estado, respectivamente, son $1-p_1$ y $1-p_2$. Matemáticamente, para un estado presente $n$ y un estado siguiente futuro $n+1$:\n",
    "\n",
    "$$P\\Big(X_{n+1} = 0| X_n = 0\\Big) = p_1$$\n",
    "$$P\\Big(X_{n+1} = 1| X_n = 1\\Big) = p_2$$\n",
    "$$P\\Big(X_{n+1} = 1| X_n = 0\\Big) = 1 - p_1$$\n",
    "$$P\\Big(X_{n+1} = 0| X_n = 1\\Big) = 1 - p_2$$\n",
    "\n",
    "Por consiguiente, la matriz de probabilidades para la cadena de Markov es:\n",
    "\n",
    "$$\\mathrm{P} = \\begin {bmatrix} p_1 & {1-p_1} \\\\ p_2 & {1-p_2} \\end{bmatrix}$$\n",
    "\n",
    "Para la simulación, se utilizará el método de la transformada inversa para la variable aleatoria $X$ de Bernoulli utilizando la distribución continua uniforme estándar $\\mathscr{U} (0,1)$. Para cada transición de estado, se utilizarán las probabilidades descritas en la fila $i$ de la matriz $\\mathrm{P}$ que corresponde al estado presente de $X$. El estado inicial de la variable aleatoria será $X_0 = 0$, y se realizará la simulación para $k$ pasos."
   ]
  },
  {
   "cell_type": "markdown",
   "metadata": {},
   "source": [
    "### Simulación"
   ]
  },
  {
   "cell_type": "markdown",
   "metadata": {},
   "source": [
    "**Función para la transformada inversa de la variable aleatoria de Bernoulli para la cadena de Markov**"
   ]
  },
  {
   "cell_type": "code",
   "execution_count": 2,
   "metadata": {},
   "outputs": [],
   "source": [
    "def bernoulliInv(u, x, p):\n",
    "    if u<=p:\n",
    "        return x\n",
    "    else:\n",
    "        if x == 1:\n",
    "            return 0\n",
    "        else:\n",
    "            return 1"
   ]
  },
  {
   "cell_type": "markdown",
   "metadata": {},
   "source": [
    "Configuración del *seed*:"
   ]
  },
  {
   "cell_type": "code",
   "execution_count": 3,
   "metadata": {},
   "outputs": [],
   "source": [
    "random.seed(np.pi)"
   ]
  },
  {
   "cell_type": "markdown",
   "metadata": {},
   "source": [
    "Parámetros de la simulación:\n",
    "\n",
    "* `k`: el número de pasos que se realizarán en la simulación\n",
    "* `p_1`: la probabilidad de que la variable aleatoria $X$ de Bernoulli se mantenga en el estado $i = 0$\n",
    "* `p_2`: la probabilidad de que la variable aleatoria $X$ de Bernoulli se mantenga en el estado $i = 1$"
   ]
  },
  {
   "cell_type": "code",
   "execution_count": 4,
   "metadata": {},
   "outputs": [],
   "source": [
    "k = 10\n",
    "p_1 = 0.3\n",
    "p_2 = 0.4"
   ]
  },
  {
   "cell_type": "code",
   "execution_count": 5,
   "metadata": {},
   "outputs": [
    {
     "data": {
      "text/latex": [
       "$X_0 = 0$"
      ],
      "text/plain": [
       "<IPython.core.display.Latex object>"
      ]
     },
     "metadata": {},
     "output_type": "display_data"
    },
    {
     "data": {
      "text/latex": [
       "$X_{1} = 1$"
      ],
      "text/plain": [
       "<IPython.core.display.Latex object>"
      ]
     },
     "metadata": {},
     "output_type": "display_data"
    },
    {
     "data": {
      "text/latex": [
       "$X_{2} = 1$"
      ],
      "text/plain": [
       "<IPython.core.display.Latex object>"
      ]
     },
     "metadata": {},
     "output_type": "display_data"
    },
    {
     "data": {
      "text/latex": [
       "$X_{3} = 1$"
      ],
      "text/plain": [
       "<IPython.core.display.Latex object>"
      ]
     },
     "metadata": {},
     "output_type": "display_data"
    },
    {
     "data": {
      "text/latex": [
       "$X_{4} = 0$"
      ],
      "text/plain": [
       "<IPython.core.display.Latex object>"
      ]
     },
     "metadata": {},
     "output_type": "display_data"
    },
    {
     "data": {
      "text/latex": [
       "$X_{5} = 1$"
      ],
      "text/plain": [
       "<IPython.core.display.Latex object>"
      ]
     },
     "metadata": {},
     "output_type": "display_data"
    },
    {
     "data": {
      "text/latex": [
       "$X_{6} = 1$"
      ],
      "text/plain": [
       "<IPython.core.display.Latex object>"
      ]
     },
     "metadata": {},
     "output_type": "display_data"
    },
    {
     "data": {
      "text/latex": [
       "$X_{7} = 0$"
      ],
      "text/plain": [
       "<IPython.core.display.Latex object>"
      ]
     },
     "metadata": {},
     "output_type": "display_data"
    },
    {
     "data": {
      "text/latex": [
       "$X_{8} = 1$"
      ],
      "text/plain": [
       "<IPython.core.display.Latex object>"
      ]
     },
     "metadata": {},
     "output_type": "display_data"
    },
    {
     "data": {
      "text/latex": [
       "$X_{9} = 1$"
      ],
      "text/plain": [
       "<IPython.core.display.Latex object>"
      ]
     },
     "metadata": {},
     "output_type": "display_data"
    },
    {
     "data": {
      "text/latex": [
       "$X_{10} = 0$"
      ],
      "text/plain": [
       "<IPython.core.display.Latex object>"
      ]
     },
     "metadata": {},
     "output_type": "display_data"
    }
   ],
   "source": [
    "# Lista de probabilidades\n",
    "P = [p_1, p_2]\n",
    "\n",
    "# Estado inicial de la variable aleatoria\n",
    "X = 0\n",
    "display(Latex('$X_0 = '+str(X)+'$'))\n",
    "\n",
    "for i in range(k):\n",
    "    u = random.uniform(0,1)\n",
    "    X = bernoulliInv(u, X, P[X])\n",
    "    display(Latex('$X_{'+str(i+1)+'} = '+str(X)+'$'))"
   ]
  },
  {
   "cell_type": "markdown",
   "metadata": {},
   "source": [
    "# Ejercicio 2: Hastings-Metropolis"
   ]
  },
  {
   "cell_type": "markdown",
   "metadata": {},
   "source": [
    "# Ejercicio 3: Muestreador de Gibbs utilizando Hastings-Metropolis"
   ]
  }
 ],
 "metadata": {
  "kernelspec": {
   "display_name": "Python 3",
   "language": "python",
   "name": "python3"
  },
  "language_info": {
   "codemirror_mode": {
    "name": "ipython",
    "version": 3
   },
   "file_extension": ".py",
   "mimetype": "text/x-python",
   "name": "python",
   "nbconvert_exporter": "python",
   "pygments_lexer": "ipython3",
   "version": "3.8.5"
  }
 },
 "nbformat": 4,
 "nbformat_minor": 4
}
